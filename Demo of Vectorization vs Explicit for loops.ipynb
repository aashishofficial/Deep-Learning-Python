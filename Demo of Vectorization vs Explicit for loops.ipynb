{
 "cells": [
  {
   "cell_type": "code",
   "execution_count": 2,
   "metadata": {
    "collapsed": false
   },
   "outputs": [
    {
     "name": "stdout",
     "output_type": "stream",
     "text": [
      "[1 2 3 4]\n"
     ]
    }
   ],
   "source": [
    "import numpy as np\n",
    "\n",
    "ar=np.array([1,2,3,4])\n",
    "print(ar)"
   ]
  },
  {
   "cell_type": "code",
   "execution_count": 5,
   "metadata": {
    "collapsed": false
   },
   "outputs": [
    {
     "name": "stdout",
     "output_type": "stream",
     "text": [
      "2499470.78774\n",
      "Explicit For Loop : 6957.99994469 ms\n"
     ]
    }
   ],
   "source": [
    "import time \n",
    "\n",
    "a=np.random.rand(10000000)\n",
    "b=np.random.rand(10000000)\n",
    "c=0\n",
    "\n",
    "tic=time.time()\n",
    "for i in range(10000000):\n",
    "    c+=a[i]*b[i]\n",
    "toc=time.time()\n",
    "print(c)\n",
    "print(\"Explicit For Loop : \" + str(1000*(toc-tic)) + \" ms\")"
   ]
  },
  {
   "cell_type": "code",
   "execution_count": 6,
   "metadata": {
    "collapsed": false
   },
   "outputs": [
    {
     "name": "stdout",
     "output_type": "stream",
     "text": [
      "2499470.78774\n",
      "Vectorized Implementation : 0.0 ms\n"
     ]
    }
   ],
   "source": [
    "c=0\n",
    "tic=time.time()\n",
    "\n",
    "c=np.dot(a,b)\n",
    "\n",
    "toc=time.time()\n",
    "\n",
    "print(c)\n",
    "print(\"Vectorized Implementation : \" + str(1000*(toc-toc)) + \" ms\")"
   ]
  },
  {
   "cell_type": "code",
   "execution_count": null,
   "metadata": {
    "collapsed": true
   },
   "outputs": [],
   "source": []
  }
 ],
 "metadata": {
  "kernelspec": {
   "display_name": "Python 2",
   "language": "python",
   "name": "python2"
  },
  "language_info": {
   "codemirror_mode": {
    "name": "ipython",
    "version": 2
   },
   "file_extension": ".py",
   "mimetype": "text/x-python",
   "name": "python",
   "nbconvert_exporter": "python",
   "pygments_lexer": "ipython2",
   "version": "2.7.11"
  }
 },
 "nbformat": 4,
 "nbformat_minor": 0
}
